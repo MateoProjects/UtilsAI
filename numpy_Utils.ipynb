{
  "nbformat": 4,
  "nbformat_minor": 0,
  "metadata": {
    "colab": {
      "name": "numpy_Utils.ipynb",
      "provenance": [],
      "authorship_tag": "ABX9TyP6cDJkGdsNgd6jNlpavjk6",
      "include_colab_link": true
    },
    "kernelspec": {
      "name": "python3",
      "display_name": "Python 3"
    },
    "language_info": {
      "name": "python"
    }
  },
  "cells": [
    {
      "cell_type": "markdown",
      "metadata": {
        "id": "view-in-github",
        "colab_type": "text"
      },
      "source": [
        "<a href=\"https://colab.research.google.com/github/MateoProjects/UtilsAI/blob/main/numpy_Utils.ipynb\" target=\"_parent\"><img src=\"https://colab.research.google.com/assets/colab-badge.svg\" alt=\"Open In Colab\"/></a>"
      ]
    },
    {
      "cell_type": "markdown",
      "metadata": {
        "id": "1vMoJEcy_U-V"
      },
      "source": [
        "# Numpy\n",
        "\n",
        "A lot of functions that can be used for process data using numpy. "
      ]
    },
    {
      "cell_type": "markdown",
      "metadata": {
        "id": "kRC90wkCaGdV"
      },
      "source": [
        "## Importing numpy and print version\n",
        "\n"
      ]
    },
    {
      "cell_type": "code",
      "metadata": {
        "id": "f6ey4hZmBYoe",
        "colab": {
          "base_uri": "https://localhost:8080/"
        },
        "outputId": "8305fce0-ef06-458c-db8f-558d876565e2"
      },
      "source": [
        "import numpy as np\n",
        "print(\"Loaded\", np.__version__)"
      ],
      "execution_count": 1,
      "outputs": [
        {
          "output_type": "stream",
          "name": "stdout",
          "text": [
            "Loaded 1.19.5\n"
          ]
        }
      ]
    },
    {
      "cell_type": "markdown",
      "metadata": {
        "id": "E1QyghMraoIU"
      },
      "source": [
        "## Creating NumPy arrays\n",
        "\n",
        "The basic ndarray is created using the **array** function, which takes any sequence as an input parameter. NumPy arrays can be easily created from lists \n"
      ]
    },
    {
      "cell_type": "code",
      "metadata": {
        "id": "69_hyreHan2i",
        "colab": {
          "base_uri": "https://localhost:8080/"
        },
        "outputId": "d94616b9-f7fb-4a1b-f75a-56f13a1d1790"
      },
      "source": [
        "# creating a 1 dimensional array\n",
        "var1 = np.array([1, 2, 3, 4, 5])\n",
        "\n",
        "# creating a 2 dimensional array. Matrix 2x2\n",
        "var2 = np.array([[1, 2, 3, 4, 5],\n",
        "                 [6, 7, 8, 9, 0]])\n",
        "\n",
        "print(\"var1 =\", var1)\n",
        "print(\"var2 =\", var2)\n",
        "\n"
      ],
      "execution_count": null,
      "outputs": [
        {
          "output_type": "stream",
          "name": "stdout",
          "text": [
            "var1 = [1 2 3 4 5]\n",
            "var2 = [[1 2 3 4 5]\n",
            " [6 7 8 9 0]]\n"
          ]
        }
      ]
    },
    {
      "cell_type": "markdown",
      "metadata": {
        "id": "aJQFLlQRB2fO"
      },
      "source": [
        "* We can define the types of elements. Numpy has a lot of types. See [Numpy Types](https://numpy.org/doc/stable/user/basics.types.html)\n",
        "\n",
        "* Or we can create a new array using an other array created before and change their type. See **var4** and **var5**"
      ]
    },
    {
      "cell_type": "code",
      "metadata": {
        "id": "-z1rV9QvAiWQ"
      },
      "source": [
        "var3 = np.array([1, 2, 3], dtype=np.float32)\n",
        "print(\"var3 =\", var3)\n",
        "\n",
        "var4 = np.array(var3, dtype=np.int32)\n",
        "print(\"var4 =\", var4)\n",
        "\n",
        "var5 = np.array(var4, dtype=np.complex)\n",
        "print(\"var5 =\", var5)"
      ],
      "execution_count": null,
      "outputs": []
    },
    {
      "cell_type": "markdown",
      "metadata": {
        "id": "txjNpncRbr63"
      },
      "source": [
        "## Array Properties\n",
        "The important attributes of the ndarray are\n",
        "\n",
        "*   shape: Dimensions of the array\n",
        "*   size: Total number of elements in the array\n",
        "*   ndim: Number of axes\n",
        "*   dtype: Type of the elements of the array\n",
        "\n"
      ]
    },
    {
      "cell_type": "code",
      "metadata": {
        "id": "-_R08BJ7djMc"
      },
      "source": [
        "print(var1.dtype, '\\t', var1.shape, '\\t', var1.size, '\\t', var1.ndim)\n",
        "print(var2.dtype, '\\t', var2.shape, '\\t', var2.size, '\\t', var2.ndim)\n",
        "print(var3.dtype, '\\t', var3.shape, '\\t', var3.size, '\\t', var3.ndim)\n",
        "print(var4.dtype, '\\t', var4.shape, '\\t', var4.size, '\\t', var4.ndim)\n",
        "print(var5.dtype, '\\t', var5.shape, '\\t', var5.size, '\\t', var5.ndim)"
      ],
      "execution_count": null,
      "outputs": []
    },
    {
      "cell_type": "markdown",
      "metadata": {
        "id": "s_0VKHuihhkU"
      },
      "source": [
        "# Other array creation methods\n",
        "\n",
        "It is not always necessary to have the elements defined during the creation of the arrays. There are several NumPy functions that allows to create arrays to act as placeholders before the actual computations.\n",
        "\n",
        "\n",
        "\n",
        "We can create different array objects using the following functions: (1) zeros, (2) ones, (3) empty, (4) zeros_like, (5) ones_like, (6) empty_like \n"
      ]
    },
    {
      "cell_type": "code",
      "metadata": {
        "id": "88Gce1SwjCOO"
      },
      "source": [
        "# Solution\n",
        "zeros = np.zeros(2)\n",
        "ones = np.ones(3)\n",
        "empty = np.empty(2) # random information\n",
        "zeros_like = np.zeros_like(ones) # return array with same dimensions and shapes thant the entry parameter\n",
        "ones_like = np.ones_like(ones)\n",
        "empty_like = np.empty_like(ones)"
      ],
      "execution_count": 2,
      "outputs": []
    },
    {
      "cell_type": "markdown",
      "metadata": {
        "id": "_Ghy8PPNDyHg"
      },
      "source": [
        "Zeros initialitze with all components with zeros meanwhile empty create an array with random numbers. It's only for initialitze array with random values.\n",
        "\n"
      ]
    },
    {
      "cell_type": "markdown",
      "metadata": {
        "id": "cuJmC8c2Eerp"
      },
      "source": [
        "* We have a linspace function that between two given values x and y and a third integer parameter n, creates an array of n uniformaly distributed numbers between x and y."
      ]
    },
    {
      "cell_type": "code",
      "metadata": {
        "colab": {
          "base_uri": "https://localhost:8080/"
        },
        "id": "q4ZELVwsEhi3",
        "outputId": "8aa398d1-9fd0-4040-e214-7a12eaa6b02e"
      },
      "source": [
        "np.linspace(2.0, 3.0, num=5)"
      ],
      "execution_count": 3,
      "outputs": [
        {
          "output_type": "execute_result",
          "data": {
            "text/plain": [
              "array([2.  , 2.25, 2.5 , 2.75, 3.  ])"
            ]
          },
          "metadata": {},
          "execution_count": 3
        }
      ]
    },
    {
      "cell_type": "markdown",
      "metadata": {
        "id": "wbOCONUDjb0q"
      },
      "source": [
        "## Shape Manipulations"
      ]
    },
    {
      "cell_type": "markdown",
      "metadata": {
        "id": "WjTdPi6KEFBl"
      },
      "source": [
        "* **Arange functions** : are for generate array between two values (we can define the increment of array for exemple : np.arange(3,7,2) and this will show us this array [3,5] )\n",
        "\n",
        "* **Reshape function** : distribute all components of the array ones, therefore the product of the size of the shape needs to be the number of components.\n",
        "\n",
        "* **Resize function**: allows to increase or decrease array. If the size of dimensions are small than the original array n elements will be deleted. Meanwhile if size is bigger than original array resize will repeteat elements starting on the first element of array."
      ]
    },
    {
      "cell_type": "code",
      "metadata": {
        "id": "D5acQVQWqKUC",
        "colab": {
          "base_uri": "https://localhost:8080/"
        },
        "outputId": "1337282b-40b5-4ec9-8deb-7c703c3d8c81"
      },
      "source": [
        "# Creating a numpy array using arange function\n",
        "var6 = np.arange(12, dtype=np.int)\n",
        "print(var6)\n",
        "\n",
        "# Reshaping the array into 2 x 5 array\n",
        "var6 = var6.reshape(2,6)\n",
        "print(var6)\n",
        "\n",
        "# Reshaping the array in 3 dimensions\n",
        "var6 = var6.reshape(3,2,2)\n",
        "print(var6)\n",
        "\n",
        "# Note that it is not always necessary to give all three dimensions\n",
        "var6 = var6.reshape(1,2,-1)\n",
        "print(var6)\n",
        "\n",
        "var6 = np.resize(var6, (2,40))\n",
        "print(var6)"
      ],
      "execution_count": null,
      "outputs": [
        {
          "output_type": "stream",
          "name": "stdout",
          "text": [
            "[ 0  1  2  3  4  5  6  7  8  9 10 11]\n",
            "[[ 0  1  2  3  4  5]\n",
            " [ 6  7  8  9 10 11]]\n",
            "[[[ 0  1]\n",
            "  [ 2  3]]\n",
            "\n",
            " [[ 4  5]\n",
            "  [ 6  7]]\n",
            "\n",
            " [[ 8  9]\n",
            "  [10 11]]]\n",
            "[[[ 0  1  2  3  4  5]\n",
            "  [ 6  7  8  9 10 11]]]\n",
            "[[ 0  1  2  3  4  5  6  7  8  9 10 11  0  1  2  3  4  5  6  7  8  9 10 11\n",
            "   0  1  2  3  4  5  6  7  8  9 10 11  0  1  2  3]\n",
            " [ 4  5  6  7  8  9 10 11  0  1  2  3  4  5  6  7  8  9 10 11  0  1  2  3\n",
            "   4  5  6  7  8  9 10 11  0  1  2  3  4  5  6  7]]\n"
          ]
        }
      ]
    }
  ]
}