{
  "nbformat": 4,
  "nbformat_minor": 0,
  "metadata": {
    "colab": {
      "name": "numpy_Utils.ipynb",
      "provenance": [],
      "collapsed_sections": [],
      "authorship_tag": "ABX9TyMC5uihVfVohqRKqOu4hmip",
      "include_colab_link": true
    },
    "kernelspec": {
      "name": "python3",
      "display_name": "Python 3"
    },
    "language_info": {
      "name": "python"
    }
  },
  "cells": [
    {
      "cell_type": "markdown",
      "metadata": {
        "id": "view-in-github",
        "colab_type": "text"
      },
      "source": [
        "<a href=\"https://colab.research.google.com/github/MateoProjects/UtilsAI/blob/main/numpy_Utils.ipynb\" target=\"_parent\"><img src=\"https://colab.research.google.com/assets/colab-badge.svg\" alt=\"Open In Colab\"/></a>"
      ]
    },
    {
      "cell_type": "markdown",
      "metadata": {
        "id": "1vMoJEcy_U-V"
      },
      "source": [
        "# Numpy\n",
        "\n",
        "A lot of functions that can be used for process data using numpy. "
      ]
    },
    {
      "cell_type": "markdown",
      "metadata": {
        "id": "kRC90wkCaGdV"
      },
      "source": [
        "## Importing numpy and print version\n",
        "\n"
      ]
    },
    {
      "cell_type": "code",
      "metadata": {
        "id": "f6ey4hZmBYoe",
        "colab": {
          "base_uri": "https://localhost:8080/"
        },
        "outputId": "8305fce0-ef06-458c-db8f-558d876565e2"
      },
      "source": [
        "import numpy as np\n",
        "print(\"Loaded\", np.__version__)"
      ],
      "execution_count": 1,
      "outputs": [
        {
          "output_type": "stream",
          "name": "stdout",
          "text": [
            "Loaded 1.19.5\n"
          ]
        }
      ]
    },
    {
      "cell_type": "markdown",
      "metadata": {
        "id": "E1QyghMraoIU"
      },
      "source": [
        "## Creating NumPy arrays\n",
        "\n",
        "The basic ndarray is created using the **array** function, which takes any sequence as an input parameter. NumPy arrays can be easily created from lists \n"
      ]
    },
    {
      "cell_type": "code",
      "metadata": {
        "id": "69_hyreHan2i",
        "colab": {
          "base_uri": "https://localhost:8080/"
        },
        "outputId": "d94616b9-f7fb-4a1b-f75a-56f13a1d1790"
      },
      "source": [
        "# creating a 1 dimensional array\n",
        "var1 = np.array([1, 2, 3, 4, 5])\n",
        "\n",
        "# creating a 2 dimensional array. Matrix 2x2\n",
        "var2 = np.array([[1, 2, 3, 4, 5],\n",
        "                 [6, 7, 8, 9, 0]])\n",
        "\n",
        "print(\"var1 =\", var1)\n",
        "print(\"var2 =\", var2)\n",
        "\n"
      ],
      "execution_count": null,
      "outputs": [
        {
          "output_type": "stream",
          "name": "stdout",
          "text": [
            "var1 = [1 2 3 4 5]\n",
            "var2 = [[1 2 3 4 5]\n",
            " [6 7 8 9 0]]\n"
          ]
        }
      ]
    },
    {
      "cell_type": "markdown",
      "metadata": {
        "id": "aJQFLlQRB2fO"
      },
      "source": [
        "* We can define the types of elements. Numpy has a lot of types. See [Numpy Types](https://numpy.org/doc/stable/user/basics.types.html)\n",
        "\n",
        "* Or we can create a new array using an other array created before and change their type. See **var4** and **var5**"
      ]
    },
    {
      "cell_type": "code",
      "metadata": {
        "id": "-z1rV9QvAiWQ"
      },
      "source": [
        "var3 = np.array([1, 2, 3], dtype=np.float32)\n",
        "print(\"var3 =\", var3)\n",
        "\n",
        "var4 = np.array(var3, dtype=np.int32)\n",
        "print(\"var4 =\", var4)\n",
        "\n",
        "var5 = np.array(var4, dtype=np.complex)\n",
        "print(\"var5 =\", var5)"
      ],
      "execution_count": null,
      "outputs": []
    },
    {
      "cell_type": "markdown",
      "metadata": {
        "id": "txjNpncRbr63"
      },
      "source": [
        "## Array Properties\n",
        "The important attributes of the ndarray are\n",
        "\n",
        "*   shape: Dimensions of the array\n",
        "*   size: Total number of elements in the array\n",
        "*   ndim: Number of axes\n",
        "*   dtype: Type of the elements of the array\n",
        "\n"
      ]
    },
    {
      "cell_type": "code",
      "metadata": {
        "id": "-_R08BJ7djMc"
      },
      "source": [
        "print(var1.dtype, '\\t', var1.shape, '\\t', var1.size, '\\t', var1.ndim)\n",
        "print(var2.dtype, '\\t', var2.shape, '\\t', var2.size, '\\t', var2.ndim)\n",
        "print(var3.dtype, '\\t', var3.shape, '\\t', var3.size, '\\t', var3.ndim)\n",
        "print(var4.dtype, '\\t', var4.shape, '\\t', var4.size, '\\t', var4.ndim)\n",
        "print(var5.dtype, '\\t', var5.shape, '\\t', var5.size, '\\t', var5.ndim)"
      ],
      "execution_count": null,
      "outputs": []
    },
    {
      "cell_type": "markdown",
      "metadata": {
        "id": "s_0VKHuihhkU"
      },
      "source": [
        "# Other array creation methods\n",
        "\n",
        "It is not always necessary to have the elements defined during the creation of the arrays. There are several NumPy functions that allows to create arrays to act as placeholders before the actual computations.\n",
        "\n",
        "\n",
        "\n",
        "We can create different array objects using the following functions: (1) zeros, (2) ones, (3) empty, (4) zeros_like, (5) ones_like, (6) empty_like \n"
      ]
    },
    {
      "cell_type": "code",
      "metadata": {
        "id": "88Gce1SwjCOO"
      },
      "source": [
        "# Solution\n",
        "zeros = np.zeros(2)\n",
        "ones = np.ones(3)\n",
        "empty = np.empty(2) # random information\n",
        "zeros_like = np.zeros_like(ones) # return array with same dimensions and shapes thant the entry parameter\n",
        "ones_like = np.ones_like(ones)\n",
        "empty_like = np.empty_like(ones)"
      ],
      "execution_count": 2,
      "outputs": []
    },
    {
      "cell_type": "markdown",
      "metadata": {
        "id": "_Ghy8PPNDyHg"
      },
      "source": [
        "Zeros initialitze with all components with zeros meanwhile empty create an array with random numbers. It's only for initialitze array with random values.\n",
        "\n"
      ]
    },
    {
      "cell_type": "markdown",
      "metadata": {
        "id": "cuJmC8c2Eerp"
      },
      "source": [
        "* We have a linspace function that between two given values x and y and a third integer parameter n, creates an array of n uniformaly distributed numbers between x and y."
      ]
    },
    {
      "cell_type": "code",
      "metadata": {
        "colab": {
          "base_uri": "https://localhost:8080/"
        },
        "id": "q4ZELVwsEhi3",
        "outputId": "8aa398d1-9fd0-4040-e214-7a12eaa6b02e"
      },
      "source": [
        "np.linspace(2.0, 3.0, num=5)"
      ],
      "execution_count": 3,
      "outputs": [
        {
          "output_type": "execute_result",
          "data": {
            "text/plain": [
              "array([2.  , 2.25, 2.5 , 2.75, 3.  ])"
            ]
          },
          "metadata": {},
          "execution_count": 3
        }
      ]
    },
    {
      "cell_type": "markdown",
      "metadata": {
        "id": "wbOCONUDjb0q"
      },
      "source": [
        "## Shape Manipulations"
      ]
    },
    {
      "cell_type": "markdown",
      "metadata": {
        "id": "WjTdPi6KEFBl"
      },
      "source": [
        "* **Arange functions** : are for generate array between two values (we can define the increment of array for exemple : np.arange(3,7,2) and this will show us this array [3,5] )\n",
        "<br>\n",
        "<br>\n",
        "* **Reshape function** : distribute all components of the array ones, therefore the product of the size of the shape needs to be the number of components.\n",
        "<br>\n",
        "<br>\n",
        "* **Resize function**: allows to increase or decrease array. If the size of dimensions are small than the original array n elements will be deleted. Meanwhile if size is bigger than original array resize will repeteat elements starting on the first element of array."
      ]
    },
    {
      "cell_type": "code",
      "metadata": {
        "id": "D5acQVQWqKUC",
        "colab": {
          "base_uri": "https://localhost:8080/"
        },
        "outputId": "1337282b-40b5-4ec9-8deb-7c703c3d8c81"
      },
      "source": [
        "# Creating a numpy array using arange function\n",
        "var6 = np.arange(12, dtype=np.int)\n",
        "print(var6)\n",
        "\n",
        "# Reshaping the array into 2 x 5 array\n",
        "var6 = var6.reshape(2,6)\n",
        "print(var6)\n",
        "\n",
        "# Reshaping the array in 3 dimensions\n",
        "var6 = var6.reshape(3,2,2)\n",
        "print(var6)\n",
        "\n",
        "# Note that it is not always necessary to give all three dimensions\n",
        "var6 = var6.reshape(1,2,-1)\n",
        "print(var6)\n",
        "\n",
        "var6 = np.resize(var6, (2,40))\n",
        "print(var6)"
      ],
      "execution_count": null,
      "outputs": [
        {
          "output_type": "stream",
          "name": "stdout",
          "text": [
            "[ 0  1  2  3  4  5  6  7  8  9 10 11]\n",
            "[[ 0  1  2  3  4  5]\n",
            " [ 6  7  8  9 10 11]]\n",
            "[[[ 0  1]\n",
            "  [ 2  3]]\n",
            "\n",
            " [[ 4  5]\n",
            "  [ 6  7]]\n",
            "\n",
            " [[ 8  9]\n",
            "  [10 11]]]\n",
            "[[[ 0  1  2  3  4  5]\n",
            "  [ 6  7  8  9 10 11]]]\n",
            "[[ 0  1  2  3  4  5  6  7  8  9 10 11  0  1  2  3  4  5  6  7  8  9 10 11\n",
            "   0  1  2  3  4  5  6  7  8  9 10 11  0  1  2  3]\n",
            " [ 4  5  6  7  8  9 10 11  0  1  2  3  4  5  6  7  8  9 10 11  0  1  2  3\n",
            "   4  5  6  7  8  9 10 11  0  1  2  3  4  5  6  7]]\n"
          ]
        }
      ]
    },
    {
      "cell_type": "markdown",
      "metadata": {
        "id": "i9ZCRBDlqENA"
      },
      "source": [
        "## Indexing, Slicing and Iterating\n",
        "\n",
        "Indexing and slicing is similar to python lists. We use the **[ ]** operator for providing slices and indices."
      ]
    },
    {
      "cell_type": "code",
      "metadata": {
        "id": "P-CZ_trPhBwH",
        "colab": {
          "base_uri": "https://localhost:8080/"
        },
        "outputId": "9a021a5c-414a-4a56-d998-c03e9ce72373"
      },
      "source": [
        "var7 = np.array([1, 2, 3, 4, 5])\n",
        "\n",
        "# indexing the second element\n",
        "# Remember array indices start with 0 in numpy\n",
        "print(var7[1])\n",
        "\n",
        "# slicing the first two elements of the array\n",
        "print(var7[0:2])"
      ],
      "execution_count": null,
      "outputs": [
        {
          "output_type": "stream",
          "name": "stdout",
          "text": [
            "2\n",
            "[1 2]\n"
          ]
        }
      ]
    },
    {
      "cell_type": "code",
      "metadata": {
        "id": "aTpnDW7qhpZX",
        "colab": {
          "base_uri": "https://localhost:8080/"
        },
        "outputId": "a69ddf08-964b-48f3-ec02-09697a09c60b"
      },
      "source": [
        "# it is also possible to slice arrays based on a condition\n",
        "print(var7[var7 % 2 == 0])  # prints all the even numbers in the array"
      ],
      "execution_count": null,
      "outputs": [
        {
          "output_type": "stream",
          "name": "stdout",
          "text": [
            "[2 4]\n"
          ]
        }
      ]
    },
    {
      "cell_type": "code",
      "metadata": {
        "id": "MP7Z7Zsikeaf",
        "colab": {
          "base_uri": "https://localhost:8080/"
        },
        "outputId": "cb31f500-8fd3-4262-c82c-7ff06efb89d7"
      },
      "source": [
        "var8 = np.array([[1, 2, 3], [4, 5, 6], [7, 8, 9]])\n",
        "print(var8)\n",
        "\n",
        "# indexing the element at second row and second column\n",
        "print(var8[1,1])\n",
        "\n",
        "# it is possible to slice the entire row or column\n",
        "print(var8[1])\n",
        "print(var8[:,1])\n",
        "\n",
        "# slice a particular range\n",
        "print(var8[0:2, 0:2])"
      ],
      "execution_count": null,
      "outputs": [
        {
          "output_type": "stream",
          "name": "stdout",
          "text": [
            "[[1 2 3]\n",
            " [4 5 6]\n",
            " [7 8 9]]\n",
            "(3, 3)\n",
            "5\n",
            "[4 5 6]\n",
            "[2 5 8]\n",
            "[[1 2]\n",
            " [4 5]]\n"
          ]
        }
      ]
    },
    {
      "cell_type": "markdown",
      "metadata": {
        "id": "EoGBpQv_wDrn"
      },
      "source": [
        "A visual illustration of slicing mechanism can be seen here\n",
        "\n",
        "![numpy_indexing.png](https://drive.google.com/uc?export=view&id=1y6rrsrihu3QS5_NGdYMo9mBnbv0qHehq)\n",
        "\n",
        "*Reference: http://scipy-lectures.org*"
      ]
    },
    {
      "cell_type": "markdown",
      "metadata": {
        "id": "0SbXe2gHipxo"
      },
      "source": [
        "\n",
        "**nonzero function**: Returns a tuple of array (one for each dimension) that contains the positions with non zero values\n",
        "..."
      ]
    },
    {
      "cell_type": "code",
      "metadata": {
        "id": "07q5D1ygiblJ",
        "colab": {
          "base_uri": "https://localhost:8080/"
        },
        "outputId": "5a409378-f0b7-4151-a9fa-0893c9fa42cd"
      },
      "source": [
        "# solutio\n",
        "x = np.array([[3, 0, 0], [0, 4, 0], [5, 6, 0]])\n",
        "print(x)\n",
        "print(np.nonzero(x))"
      ],
      "execution_count": null,
      "outputs": [
        {
          "output_type": "stream",
          "name": "stdout",
          "text": [
            "[[3 0 0]\n",
            " [0 4 0]\n",
            " [5 6 0]]\n",
            "(array([0, 1, 2, 2]), array([0, 1, 0, 1]))\n"
          ]
        }
      ]
    },
    {
      "cell_type": "code",
      "metadata": {
        "id": "trCOmdaxz3L6",
        "colab": {
          "base_uri": "https://localhost:8080/"
        },
        "outputId": "d1bd8610-7840-4061-956b-8727495901d5"
      },
      "source": [
        "var9 = np.array([[1, 2, 3], [4, 5, 6]])\n",
        "\n",
        "for i in var9: # outer loop to access row\n",
        "    print(i) # returs the entire row\n",
        "\n",
        "for i in var9: # outer loop to access row\n",
        "    for j in i:  # iterating each element of the row\n",
        "        print(j) # returs the element value"
      ],
      "execution_count": null,
      "outputs": [
        {
          "output_type": "stream",
          "name": "stdout",
          "text": [
            "[1 2 3]\n",
            "[4 5 6]\n",
            "1\n",
            "2\n",
            "3\n",
            "4\n",
            "5\n",
            "6\n"
          ]
        }
      ]
    },
    {
      "cell_type": "code",
      "metadata": {
        "id": "yiSVVSTpyoZI",
        "colab": {
          "base_uri": "https://localhost:8080/"
        },
        "outputId": "b29f2863-6ad2-41b3-d8be-4c67d9f0e445"
      },
      "source": [
        "# an alternative to the nesting for loop is the nditer function\n",
        "var10 = np.array([[1, 2, 3], [4, 5, 6]])\n",
        "var10=np.resize(var10,(2,2,2))\n",
        "for i in np.nditer(var10):\n",
        "    print(i)"
      ],
      "execution_count": null,
      "outputs": [
        {
          "output_type": "stream",
          "name": "stdout",
          "text": [
            "1\n",
            "2\n",
            "3\n",
            "4\n",
            "5\n",
            "6\n",
            "1\n",
            "2\n"
          ]
        }
      ]
    },
    {
      "cell_type": "markdown",
      "metadata": {
        "id": "E4L8-Aso0Mef"
      },
      "source": [
        "## Enumerate Array\n",
        "\n",
        "**ndenumarte function**: return a list that contains for each position, the cordinates in numpy array and the value that contains.\n",
        "\n",
        "\n"
      ]
    },
    {
      "cell_type": "code",
      "metadata": {
        "colab": {
          "base_uri": "https://localhost:8080/"
        },
        "id": "-JUT7dkwa8Or",
        "outputId": "717ef609-5502-469e-fa1f-0852e1c4ca40"
      },
      "source": [
        "\n",
        "a = np.array([[1, 2], [3, 4]])\n",
        "for index, i in np.ndenumerate(a):\n",
        "  print(index,i)\n"
      ],
      "execution_count": 5,
      "outputs": [
        {
          "output_type": "stream",
          "name": "stdout",
          "text": [
            "(0, 0) 1\n",
            "(0, 1) 2\n",
            "(1, 0) 3\n",
            "(1, 1) 4\n"
          ]
        }
      ]
    },
    {
      "cell_type": "markdown",
      "metadata": {
        "id": "5gh4783VyOPN"
      },
      "source": [
        "This leaves us with the question of how the array copy works in numpy"
      ]
    },
    {
      "cell_type": "markdown",
      "metadata": {
        "id": "nj5X_ym4tk3D"
      },
      "source": [
        "# Array Copy\n",
        "\n",
        "When we create a new array using the '=' operator, no new copy of the array is created, ie, only a name is created but it refers to the same object."
      ]
    },
    {
      "cell_type": "code",
      "metadata": {
        "id": "LRuyykbj5ce8",
        "colab": {
          "base_uri": "https://localhost:8080/"
        },
        "outputId": "7b7b3d90-2c3d-4548-8974-69f5ceb042d3"
      },
      "source": [
        "var13 = np.array([1, 2, 3, 4, 5])\n",
        "\n",
        "var14 = var13\n",
        "print('Before modifying', var13)\n",
        "\n",
        "var14[0] += 1\n",
        "print('After modifying', var13)"
      ],
      "execution_count": null,
      "outputs": [
        {
          "output_type": "stream",
          "name": "stdout",
          "text": [
            "Before modifying [1 2 3 4 5]\n",
            "After modifying [2 2 3 4 5]\n"
          ]
        }
      ]
    },
    {
      "cell_type": "markdown",
      "metadata": {
        "id": "O9LJvXVU6moG"
      },
      "source": [
        "When a view function is used to create a copy of the array, or when the array is sliced, the returned array is only a shallow copy of the original array, ie, an array object is created but the object points to the same data"
      ]
    },
    {
      "cell_type": "code",
      "metadata": {
        "id": "wKiN-nK07P2U",
        "colab": {
          "base_uri": "https://localhost:8080/"
        },
        "outputId": "a13473ab-f281-45c2-a715-8f01a079ba2a"
      },
      "source": [
        "var15 = np.array([1, 2, 3, 4, 5])\n",
        "\n",
        "var16 = var15.view()\n",
        "print('Before modifying (using view)', var15)\n",
        "\n",
        "var16[0] += 1\n",
        "print('After modifying (using view)', var15)\n",
        "\n",
        "var17 = var15[0:3]\n",
        "print('Before modifying (using slice)', var15)\n",
        "\n",
        "var17[2] += 1\n",
        "print('After modifying (using slice)', var15)"
      ],
      "execution_count": null,
      "outputs": [
        {
          "output_type": "stream",
          "name": "stdout",
          "text": [
            "Before modifying (using view) [1 2 3 4 5]\n",
            "After modifying (using view) [2 2 3 4 5]\n",
            "Before modifying (using slice) [2 2 3 4 5]\n",
            "After modifying (using slice) [2 2 4 4 5]\n"
          ]
        }
      ]
    },
    {
      "cell_type": "markdown",
      "metadata": {
        "id": "SxMWSP-o7oFo"
      },
      "source": [
        "To create a deep copy of the array, it is necessary to use the copy method"
      ]
    },
    {
      "cell_type": "code",
      "metadata": {
        "id": "Y5vKaBkk87Bp",
        "colab": {
          "base_uri": "https://localhost:8080/"
        },
        "outputId": "2230225f-3672-40ca-9dfb-fce7f05b06ae"
      },
      "source": [
        "var18 = np.array([1, 2, 3, 4, 5])\n",
        "\n",
        "var19 = var18.copy()\n",
        "print('Before modifying (using copy)', var18)\n",
        "\n",
        "var19[0] += 1\n",
        "print('After modifying (using copy)', var18)"
      ],
      "execution_count": null,
      "outputs": [
        {
          "output_type": "stream",
          "name": "stdout",
          "text": [
            "Before modifying (using copy) [1 2 3 4 5]\n",
            "After modifying (using copy) [1 2 3 4 5]\n"
          ]
        }
      ]
    },
    {
      "cell_type": "markdown",
      "metadata": {
        "id": "DdxYPyqYukNf"
      },
      "source": [
        "# Adding new axis\n",
        "\n",
        "It is also possible to increase the dimensions of a numpy array. **np.newaxis** and **expand_dims** can be used to increase the dimensions of the array. This would be used very handy in building convolutional neural networks where you would need to have uniform channel lengths *(will be used in the later exercises)*."
      ]
    },
    {
      "cell_type": "code",
      "metadata": {
        "id": "6pb3JQWVujSr",
        "colab": {
          "base_uri": "https://localhost:8080/"
        },
        "outputId": "8bc2370a-e548-4509-eedf-2384271ec6e6"
      },
      "source": [
        "var20 = np.array([1, 2, 3, 4, 5])\n",
        "print(var20.shape)\n",
        "\n",
        "a = var20[np.newaxis, :]  # adding new axis to the first axis\n",
        "print(a.shape)\n",
        "\n",
        "b = a[np.newaxis, :]  # adding new axis to the first axis\n",
        "print(b.shape)\n",
        "\n",
        "c = np.expand_dims(var20, axis=1)  # adding new axis to the second axis\n",
        "print(c.shape)\n",
        "\n",
        "d = np.expand_dims(var20, axis=0)  # adding new axis to the first axis\n",
        "print(d.shape)"
      ],
      "execution_count": null,
      "outputs": [
        {
          "output_type": "stream",
          "name": "stdout",
          "text": [
            "(5,)\n",
            "(1, 5)\n",
            "(1, 1, 5)\n",
            "(5, 1)\n",
            "(1, 5)\n"
          ]
        }
      ]
    },
    {
      "cell_type": "markdown",
      "metadata": {
        "id": "o8xkokp5s3F4"
      },
      "source": [
        "# Broadcasting Rules\n",
        "\n",
        "Broadcasting deals with how numpy treats arrays with different sizes during arithmetic operations. In general, the smaller arrays are broadcasted into the larger array shapes so that both the arrays are compatible.\n",
        "\n",
        "Read [basic broadcasting rules](https://numpy.org/doc/stable/user/basics.broadcasting.html) for basic knowledge about broadcasting.\n",
        "Also read [Array broadcasting](https://numpy.org/doc/stable/user/theory.broadcasting.html#array-broadcasting-in-numpy).\n"
      ]
    },
    {
      "cell_type": "code",
      "metadata": {
        "id": "8c8Rza6BJ3Eq",
        "colab": {
          "base_uri": "https://localhost:8080/"
        },
        "outputId": "e5746d6d-ac0b-49aa-a74f-ca1cef54f823"
      },
      "source": [
        "var20 = np.array([[1.2, 2.3, 4.0],\n",
        "                  [1.2, 3.4, 5.2],\n",
        "                  [0.0, 1.0, 1.3],\n",
        "                  [0.0, 1.0, 2e-1]])\n",
        "\n",
        "print(var20)\n",
        "\n",
        "print(var20 * 2)  # multiplying each element with 2\n",
        "\n",
        "print(var20 + [1, 0, 1])  # adding each row with [1, 0, 1]]"
      ],
      "execution_count": null,
      "outputs": [
        {
          "output_type": "stream",
          "name": "stdout",
          "text": [
            "[[1.2 2.3 4. ]\n",
            " [1.2 3.4 5.2]\n",
            " [0.  1.  1.3]\n",
            " [0.  1.  0.2]]\n",
            "[[ 2.4  4.6  8. ]\n",
            " [ 2.4  6.8 10.4]\n",
            " [ 0.   2.   2.6]\n",
            " [ 0.   2.   0.4]]\n",
            "[[2.2 2.3 5. ]\n",
            " [2.2 3.4 6.2]\n",
            " [1.  1.  2.3]\n",
            " [1.  1.  1.2]]\n"
          ]
        }
      ]
    },
    {
      "cell_type": "markdown",
      "metadata": {
        "id": "u-cBHSIZLX2I"
      },
      "source": [
        "## Normalizing values \n",
        "\n",
        "Normalizing values is an important area in any image processing and machine learning problem. In this cell, we will try to apply normalization at different axis to understand the role of broadcasting."
      ]
    },
    {
      "cell_type": "code",
      "metadata": {
        "id": "T0nzFs-8WT3n",
        "colab": {
          "base_uri": "https://localhost:8080/"
        },
        "outputId": "4785f141-e6b0-49fe-a848-33ac79a7f51b"
      },
      "source": [
        "var21 = np.array([[1.2, 2.3, 4.0],\n",
        "                  [1.2, 3.4, 5.2],\n",
        "                  [0.0, 1.0, 1.3],\n",
        "                  [0.0, 1.0, 2e-1]])\n",
        "\n",
        "# compute row wise mean\n",
        "var21_mean =  var21.mean(1)             # code fill up\n",
        "print(var21_mean)\n",
        "\n",
        "# compute column wise mean\n",
        "var21_mean_clm =  var21.mean(0)             # code fill up\n",
        "print(var21_mean_clm)\n",
        "\n",
        "# do row wise mean subtraction and column wise mean subtraction\n",
        "# solution\n",
        "\n",
        "var21_row = var21 - var21.mean(1, keepdims=True)\n",
        "var21_col = var21 - var21.mean(0, keepdims=True)\n",
        "\n",
        "print(var21_row)\n",
        "print(var21_col)\n",
        "\n",
        "\n",
        "# how do we normalize the entire array using the global mean?\n",
        "# solution\n",
        "\n",
        "var21_normalized = np.mean(var21)\n",
        "var21_normalized\n"
      ],
      "execution_count": null,
      "outputs": [
        {
          "output_type": "stream",
          "name": "stdout",
          "text": [
            "[2.5        3.26666667 0.76666667 0.4       ]\n",
            "[0.6   1.925 2.675]\n",
            "[[-1.3        -0.2         1.5       ]\n",
            " [-2.06666667  0.13333333  1.93333333]\n",
            " [-0.76666667  0.23333333  0.53333333]\n",
            " [-0.4         0.6        -0.2       ]]\n",
            "[[ 0.6    0.375  1.325]\n",
            " [ 0.6    1.475  2.525]\n",
            " [-0.6   -0.925 -1.375]\n",
            " [-0.6   -0.925 -2.475]]\n"
          ]
        },
        {
          "output_type": "execute_result",
          "data": {
            "text/plain": [
              "1.7333333333333332"
            ]
          },
          "metadata": {},
          "execution_count": 8
        }
      ]
    }
  ]
}