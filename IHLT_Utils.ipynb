{
  "nbformat": 4,
  "nbformat_minor": 0,
  "metadata": {
    "colab": {
      "name": "IHLT_Utils.ipynb",
      "provenance": [],
      "toc_visible": true,
      "authorship_tag": "ABX9TyMVVphpgyHco88PgWJsOqPA",
      "include_colab_link": true
    },
    "kernelspec": {
      "name": "python3",
      "display_name": "Python 3"
    },
    "language_info": {
      "name": "python"
    }
  },
  "cells": [
    {
      "cell_type": "markdown",
      "metadata": {
        "id": "view-in-github",
        "colab_type": "text"
      },
      "source": [
        "<a href=\"https://colab.research.google.com/github/MateoProjects/UtilsAI/blob/main/IHLT_Utils.ipynb\" target=\"_parent\"><img src=\"https://colab.research.google.com/assets/colab-badge.svg\" alt=\"Open In Colab\"/></a>"
      ]
    },
    {
      "cell_type": "markdown",
      "metadata": {
        "id": "ftQproWqF9Qg"
      },
      "source": [
        "# Utils for IHLT subject\n"
      ]
    },
    {
      "cell_type": "markdown",
      "metadata": {
        "id": "Bkmd6xRoGKO_"
      },
      "source": [
        "## Import documents from drive"
      ]
    },
    {
      "cell_type": "code",
      "metadata": {
        "id": "Ivoe59eFF3PO"
      },
      "source": [
        "from google.colab import drive\n",
        "drive.mount('/content/drive')"
      ],
      "execution_count": null,
      "outputs": []
    },
    {
      "cell_type": "markdown",
      "metadata": {
        "id": "We6mZfViGZEr"
      },
      "source": [
        "**Note** : If you have a shared drive and you are not the owner of the folder or file you need to create a shortcut to your drive. "
      ]
    },
    {
      "cell_type": "code",
      "metadata": {
        "id": "pkrhpHcJGqN_"
      },
      "source": [
        "import pandas as pd\n",
        "dt = pd.read_csv('/content/drive/MyDrive/IHTL_Labs/IHLT_Lab2/STS.input.SMTeuroparl.txt',sep='\\t',header=None)\n"
      ],
      "execution_count": null,
      "outputs": []
    },
    {
      "cell_type": "markdown",
      "metadata": {
        "id": "pC7cs-2NHMWu"
      },
      "source": [
        "## Imports and downloads"
      ]
    },
    {
      "cell_type": "code",
      "metadata": {
        "id": "zzcr7LJtHQiZ"
      },
      "source": [
        "import nltk\n",
        "# exemple of download\n",
        "nltk.download('stopwords')\n"
      ],
      "execution_count": null,
      "outputs": []
    },
    {
      "cell_type": "markdown",
      "metadata": {
        "id": "wNKb62xcjlvi"
      },
      "source": [
        "# General Purpose\n"
      ]
    },
    {
      "cell_type": "markdown",
      "metadata": {
        "id": "sBFoikObHjIS"
      },
      "source": [
        "## Functions or codes that can help us"
      ]
    },
    {
      "cell_type": "markdown",
      "metadata": {
        "id": "MgBsgRNVH1zn"
      },
      "source": [
        "### Sort dictionary by value"
      ]
    },
    {
      "cell_type": "code",
      "metadata": {
        "id": "I0G19tSGHwBN"
      },
      "source": [
        "# Assuming that we have a dictionari with {key: value} and value is a integer\n",
        "dict_ordered = sorted(mydict.items(), key=lambda x: x[1], reverse=True)\n"
      ],
      "execution_count": null,
      "outputs": []
    }
  ]
}