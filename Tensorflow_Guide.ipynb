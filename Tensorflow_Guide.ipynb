{
  "nbformat": 4,
  "nbformat_minor": 0,
  "metadata": {
    "colab": {
      "name": "Tensorflow Guide.ipynb",
      "provenance": [],
      "authorship_tag": "ABX9TyMCwD0kmgFwpTBg8F4orGWk",
      "include_colab_link": true
    },
    "kernelspec": {
      "name": "python3",
      "display_name": "Python 3"
    },
    "language_info": {
      "name": "python"
    }
  },
  "cells": [
    {
      "cell_type": "markdown",
      "metadata": {
        "id": "view-in-github",
        "colab_type": "text"
      },
      "source": [
        "<a href=\"https://colab.research.google.com/github/MateoProjects/UtilsAI/blob/main/Tensorflow_Guide.ipynb\" target=\"_parent\"><img src=\"https://colab.research.google.com/assets/colab-badge.svg\" alt=\"Open In Colab\"/></a>"
      ]
    },
    {
      "cell_type": "markdown",
      "source": [
        "# Tensorflow Simple Guide\n",
        "\n",
        "Tensorflow in 10 minuts. A simple guide with util functions that can be used."
      ],
      "metadata": {
        "id": "1n2f4Rz1qIwr"
      }
    },
    {
      "cell_type": "markdown",
      "source": [
        "## Imports"
      ],
      "metadata": {
        "id": "a7pqjbZUqbHp"
      }
    },
    {
      "cell_type": "code",
      "execution_count": null,
      "metadata": {
        "id": "VPzrayejqH_W"
      },
      "outputs": [],
      "source": [
        "import tensorflow as tf\n",
        "import tensorflow.keras.applications as app\n",
        "import keras\n",
        "import matplotlib.pyplot as plt\n",
        "import numpy as np\n",
        "from keras import layers, regularizers\n",
        "from keras import backend as K\n",
        "from tensorflow.keras import optimizers\n",
        "from keras.models import Sequential\n",
        "from keras.utils import np_utils\n",
        "from keras.preprocessing.image import ImageDataGenerator\n",
        "from keras.layers import Dense,  GlobalAveragePooling2D\n",
        "from tensorflow.keras.utils import Sequence\n",
        "from tensorflow.keras import utils\n",
        "from tensorflow.keras.models import Model\n",
        "from skimage import io\n",
        "from keras.utils.data_utils import Sequence\n",
        "from copy import copy\n",
        "from constants import *\n"
      ]
    },
    {
      "cell_type": "markdown",
      "source": [
        "## Layers"
      ],
      "metadata": {
        "id": "_3QG2WQMq9eY"
      }
    },
    {
      "cell_type": "markdown",
      "source": [
        "Keras have a convolutonal and dense layers.\n",
        "\n",
        "**Note**: The cells below are only examples of functions. Don't execute. "
      ],
      "metadata": {
        "id": "jt53G_nXrG1A"
      }
    },
    {
      "cell_type": "code",
      "source": [
        "model = keras.Sequentia() # this line is for generate a red in sequential"
      ],
      "metadata": {
        "id": "A6eeXwC9rTcz"
      },
      "execution_count": null,
      "outputs": []
    },
    {
      "cell_type": "markdown",
      "source": [
        "If we want to add new layers we only need to use the function **model.add()**\n",
        "\n",
        "In case that we want to add a new dense layer:\n",
        "* \n",
        "\n",
        "```Python\n",
        "tf.keras.layers.Dense(\n",
        "    units,\n",
        "    activation=None,\n",
        "    use_bias=True,\n",
        "    kernel_initializer='glorot_uniform',\n",
        "    bias_initializer='zeros',\n",
        "    kernel_regularizer=None,\n",
        "    bias_regularizer=None,\n",
        "    activity_regularizer=None,\n",
        "    kernel_constraint=None,\n",
        "    bias_constraint=None,\n",
        "    **kwargs\n",
        ")\n",
        "```\n",
        "\n",
        "\n",
        "\n",
        "Where: \n",
        "* Units activation is a integer.\n",
        "* Activation is a name of activation function like \"relu\", \"gelu\" etc...\n",
        "* kerne_initializer can be a string or a Initializer. See : https://keras.io/api/layers/initializers/"
      ],
      "metadata": {
        "id": "QhwmPzpPrbvm"
      }
    },
    {
      "cell_type": "code",
      "source": [
        "model.add(layers.Dense(128, activation='relu'))"
      ],
      "metadata": {
        "id": "Pqh3_UmvrbYX"
      },
      "execution_count": null,
      "outputs": []
    },
    {
      "cell_type": "markdown",
      "source": [
        "In case that we want to add a new conv layer:\n",
        "\n",
        "* \n",
        "\n",
        "```Python\n",
        "tf.keras.layers.Conv2D(\n",
        "    filters,\n",
        "    kernel_size,\n",
        "    strides=(1, 1),\n",
        "    padding='valid',\n",
        "    data_format=None,\n",
        "    dilation_rate=(1, 1),\n",
        "    groups=1,\n",
        "    activation=None,\n",
        "    use_bias=True,\n",
        "    kernel_initializer='glorot_uniform',\n",
        "    bias_initializer='zeros',\n",
        "    kernel_regularizer=None,\n",
        "    bias_regularizer=None,\n",
        "    activity_regularizer=None,\n",
        "    kernel_constraint=None,\n",
        "    bias_constraint=None,\n",
        "    **kwargs\n",
        ")\n",
        "```\n",
        "\n"
      ],
      "metadata": {
        "id": "b2unauQ3ssBd"
      }
    },
    {
      "cell_type": "code",
      "source": [
        "model.add(layers.Conv2D(16,kernel_size(3,3), activation='relu', kernel_initializer='he_uniform', padding='same'))\n",
        "#If its the first layers then:\n",
        "model.add(layers.Conv2D(16,kernel_size(3,3), activation='relu', kernel_initializer='he_uniform', padding='same', input_shape=(256,256,3), data_format='channels_last'))\n",
        "\n"
      ],
      "metadata": {
        "id": "gM0LDN3otOvN"
      },
      "execution_count": null,
      "outputs": []
    },
    {
      "cell_type": "markdown",
      "source": [
        "After a convolutional layer we need to add a pooling layer. In this example we show how to add an AveragePooling layer and MaxPooling layer.\n",
        "\n",
        "```\n",
        "tf.keras.layers.AveragePooling2D(\n",
        "    pool_size=(2, 2), strides=None, padding=\"valid\", data_format=None, **kwargs\n",
        ")\n",
        "```\n",
        "\n",
        "or \n",
        "\n",
        "```\n",
        "tf.keras.layers.MaxPooling2D(\n",
        "    pool_size=(2, 2), strides=None, padding=\"valid\", data_format=None, **kwargs\n",
        ")\n",
        "```\n",
        "\n",
        "Link to the documentation: https://keras.io/api/layers/pooling_layers/"
      ],
      "metadata": {
        "id": "4RepYxuwtuHN"
      }
    },
    {
      "cell_type": "code",
      "source": [
        "model.add(layers.Conv2D(16,kernel_size(3,3), activation='relu', kernel_initializer='he_uniform', padding='same', input_shape=(256,256,3), data_format='channels_last'))\n",
        "model.add(layers.MaxPooling2D(pool_size=(2, 2)))\n",
        "\n",
        "# or \n",
        "\n",
        "model.add(layers.Conv2D(16,kernel_size(3,3), activation='relu', kernel_initializer='he_uniform', padding='same', input_shape=(256,256,3), data_format='channels_last'))\n",
        "model.add(layers.AveragePooling2D(pool_size=(2,2)))\n",
        "\n",
        "\n"
      ],
      "metadata": {
        "id": "8ytg3jj9t4TV"
      },
      "execution_count": null,
      "outputs": []
    },
    {
      "cell_type": "markdown",
      "source": [
        "If we want to normalize the output of a layer we can add a BatchNormalization layer.\n",
        "\n",
        "**Link to the documentation**: https://keras.io/api/layers/normalization_layers/batch_normalization/"
      ],
      "metadata": {
        "id": "V3lIxFr2uLd-"
      }
    },
    {
      "cell_type": "code",
      "source": [
        "model.add(layers.Conv2D(64, kernel_size=(3, 3), activation='gelu', kernel_initializer='he_uniform',padding='same'))\n",
        "model.add(layers.BatchNormalization(center=True,))\n",
        "model.add(layers.MaxPooling2D(pool_size=(2, 2)))"
      ],
      "metadata": {
        "id": "5tu4NTsTuYS9"
      },
      "execution_count": null,
      "outputs": []
    },
    {
      "cell_type": "markdown",
      "source": [
        "## Exemple of code for Museum Dataset"
      ],
      "metadata": {
        "id": "U27RU-d-vkSj"
      }
    },
    {
      "cell_type": "markdown",
      "source": [
        "The MAMe dataset contains images of high-resolution and variable shape of artworks from 3 different museums:\n",
        "\n",
        "* The Metropolitan Museum of Art of New York\n",
        "* The Los Angeles County Museum of Art\n",
        "* The Cleveland Museum of Art"
      ],
      "metadata": {
        "id": "IlYTPjpjvupy"
      }
    },
    {
      "cell_type": "code",
      "source": [
        "def get_baseModel():\n",
        "    \"\"\"\n",
        "    Get the model from the base model.\n",
        "    @return model\n",
        "    \"\"\"\n",
        "\n",
        "    model = keras.Sequential()\n",
        "    model.add(layers.Conv2D(40, kernel_size=(3, 3), activation='gelu', kernel_initializer='he_uniform', padding='same', input_shape=(256,256,3), data_format='channels_last'))\n",
        "    model.add(layers.BatchNormalization(center=True,))\n",
        "    model.add(layers.MaxPooling2D(pool_size=(2, 2)))\n",
        "\n",
        "    model.add(layers.Conv2D(80, kernel_size=(3, 3), activation='gelu', kernel_initializer='he_uniform', padding='same'))\n",
        "    model.add(layers.Dropout(0.2))\n",
        "    model.add(layers.MaxPooling2D(pool_size=(2, 2)))\n",
        "\n",
        "    model.add(layers.Conv2D(160, kernel_size=(3, 3), activation='gelu', kernel_initializer='he_uniform',padding='same'))\n",
        "    model.add(layers.BatchNormalization(center=True,))\n",
        "    model.add(layers.MaxPooling2D(pool_size=(2, 2)))\n",
        "\n",
        "    model.add(layers.Flatten())\n",
        "    #model.add(layers.Dense(256, activation='gelu'))\n",
        "    #model.add(layers.Dropout(0.2))\n",
        "    model.add(layers.Dense(128, activation='gelu' ))\n",
        "    model.add(layers.Dropout(0.2))\n",
        "    model.add(layers.BatchNormalization(center=True,))\n",
        "    model.add(layers.Dense(NUM_CLASSES, activation='softmax'))\n",
        "    model.summary()\n",
        "    return model"
      ],
      "metadata": {
        "id": "Sj_P42CHrAQf"
      },
      "execution_count": null,
      "outputs": []
    },
    {
      "cell_type": "markdown",
      "source": [
        "## Training a model"
      ],
      "metadata": {
        "id": "ct4vOq1UwPCS"
      }
    },
    {
      "cell_type": "markdown",
      "source": [
        "Once we have our architecture of the model we need to compile with the optimizer, loss function.\n",
        "\n"
      ],
      "metadata": {
        "id": "FR_HyCzKwoyg"
      }
    },
    {
      "cell_type": "code",
      "source": [
        "model = get_baseModel()\n",
        "model.compile(optimizer=keras.optimizers.Adam(learning_rate=0.0001), loss='categorical_crossentropy', metrics=['accuracy'])\n"
      ],
      "metadata": {
        "id": "cZe5GpZIwV7S"
      },
      "execution_count": null,
      "outputs": []
    },
    {
      "cell_type": "markdown",
      "source": [
        "## Evaluating a model"
      ],
      "metadata": {
        "id": "tM57MibAwSJQ"
      }
    }
  ]
}