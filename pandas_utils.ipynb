{
  "nbformat": 4,
  "nbformat_minor": 0,
  "metadata": {
    "colab": {
      "name": "Utils_Pandas.ipynb",
      "provenance": [],
      "include_colab_link": true
    },
    "kernelspec": {
      "name": "python3",
      "display_name": "Python 3"
    },
    "language_info": {
      "name": "python"
    }
  },
  "cells": [
    {
      "cell_type": "markdown",
      "metadata": {
        "id": "view-in-github",
        "colab_type": "text"
      },
      "source": [
        "<a href=\"https://colab.research.google.com/github/MateoProjects/UtilsAI/blob/main/pandas_utils.ipynb\" target=\"_parent\"><img src=\"https://colab.research.google.com/assets/colab-badge.svg\" alt=\"Open In Colab\"/></a>"
      ]
    },
    {
      "cell_type": "markdown",
      "metadata": {
        "id": "9pOelHIZj98l"
      },
      "source": [
        "# **Pandas**"
      ]
    },
    {
      "cell_type": "markdown",
      "source": [
        "Primero hay que importar la libreria"
      ],
      "metadata": {
        "id": "4D22D3Mnf2cL"
      }
    },
    {
      "cell_type": "code",
      "metadata": {
        "id": "UHHfnfn-j9o6"
      },
      "source": [
        "import pandas as pd"
      ],
      "execution_count": null,
      "outputs": []
    },
    {
      "cell_type": "markdown",
      "source": [
        "## Leyendo un CSV (coma separated value)"
      ],
      "metadata": {
        "id": "HtJZLdydiHd4"
      }
    },
    {
      "cell_type": "markdown",
      "source": [
        "Podemos imprimir las primeras lineas de las tablas escribiendo df.head().\n",
        "\n",
        "**Nota**: df es el nombre de nuestra variable donde la tabla está guardada."
      ],
      "metadata": {
        "id": "1X7eMcrufo3G"
      }
    },
    {
      "cell_type": "code",
      "source": [
        "# Leer un archivo CSV\n",
        "df = pd.read_csv('ruta/a/tu/archivo.csv')\n",
        "\n",
        "# Mostrar las primeras filas del DataFrame\n",
        "print(df.head())\n",
        "\n",
        "# Especificando las columnas\n",
        "df = pd.read_csv('ruta/a/tu/archivo.csv', usecols=['columna1', 'columna2'])\n",
        "print(df.head())\n"
      ],
      "metadata": {
        "id": "JFZU7DtKiZzD"
      },
      "execution_count": null,
      "outputs": []
    },
    {
      "cell_type": "markdown",
      "source": [
        "Hay veces que nuestros csv no tendrán cabeceras donde nos indican el nombre de las columnas y que esto lo tendremos en otro archivo. Para leer el csv de forma correcta sin cabecera haremos lo siguiente:"
      ],
      "metadata": {
        "id": "GSnMaYF0iv06"
      }
    },
    {
      "cell_type": "code",
      "source": [
        "df = pd.read_csv('ruta/a/tu/archivo.csv', header=None)\n"
      ],
      "metadata": {
        "id": "1v_16p5giu_w"
      },
      "execution_count": null,
      "outputs": []
    },
    {
      "cell_type": "markdown",
      "source": [
        "Si quisieramos añadir las columnas hariamos lo siguiente:"
      ],
      "metadata": {
        "id": "-SB8oG6Gi9os"
      }
    },
    {
      "cell_type": "code",
      "source": [
        "nombres_columnas = ['columna1', 'columna2', 'columna3']\n",
        "\n",
        "# Leer CSV sin cabecera\n",
        "df = pd.read_csv('ruta/a/tu/archivo.csv', header=None, names=nombres_columnas)\n",
        "\n",
        "# Mostrar las primeras filas del DataFrame\n",
        "print(df.head())"
      ],
      "metadata": {
        "id": "JSibkjCTjBVh"
      },
      "execution_count": null,
      "outputs": []
    },
    {
      "cell_type": "markdown",
      "metadata": {
        "id": "Qbz7_VbTkJWG"
      },
      "source": [
        "## Creando y manipulando un Dataframe"
      ]
    },
    {
      "cell_type": "code",
      "metadata": {
        "id": "6KEO6wJUjRUn"
      },
      "source": [
        "d = {'col1': [1, 2], 'col2': [3, 4], 'col3': \"Hola\", 'col4': 0.45}\n",
        "df = pd.DataFrame(data=d)"
      ],
      "execution_count": null,
      "outputs": []
    },
    {
      "cell_type": "code",
      "metadata": {
        "colab": {
          "base_uri": "https://localhost:8080/",
          "height": 111
        },
        "id": "dJS9Ms9KlKpt",
        "outputId": "48c698a2-148f-464c-9810-6d1cd679e7c4"
      },
      "source": [
        "df.head()"
      ],
      "execution_count": null,
      "outputs": [
        {
          "output_type": "execute_result",
          "data": {
            "text/html": [
              "<div>\n",
              "<style scoped>\n",
              "    .dataframe tbody tr th:only-of-type {\n",
              "        vertical-align: middle;\n",
              "    }\n",
              "\n",
              "    .dataframe tbody tr th {\n",
              "        vertical-align: top;\n",
              "    }\n",
              "\n",
              "    .dataframe thead th {\n",
              "        text-align: right;\n",
              "    }\n",
              "</style>\n",
              "<table border=\"1\" class=\"dataframe\">\n",
              "  <thead>\n",
              "    <tr style=\"text-align: right;\">\n",
              "      <th></th>\n",
              "      <th>col1</th>\n",
              "      <th>col2</th>\n",
              "      <th>col3</th>\n",
              "      <th>col4</th>\n",
              "    </tr>\n",
              "  </thead>\n",
              "  <tbody>\n",
              "    <tr>\n",
              "      <th>0</th>\n",
              "      <td>1</td>\n",
              "      <td>3</td>\n",
              "      <td>Hola</td>\n",
              "      <td>0.45</td>\n",
              "    </tr>\n",
              "    <tr>\n",
              "      <th>1</th>\n",
              "      <td>2</td>\n",
              "      <td>4</td>\n",
              "      <td>Hola</td>\n",
              "      <td>0.45</td>\n",
              "    </tr>\n",
              "  </tbody>\n",
              "</table>\n",
              "</div>"
            ],
            "text/plain": [
              "   col1  col2  col3  col4\n",
              "0     1     3  Hola  0.45\n",
              "1     2     4  Hola  0.45"
            ]
          },
          "metadata": {},
          "execution_count": 7
        }
      ]
    },
    {
      "cell_type": "markdown",
      "metadata": {
        "id": "lX3vGN8mkeg1"
      },
      "source": [
        "## Tipos de columna\n",
        "\n",
        "A veces nos puede interesar saber el tipo de variable que tenemos en cada columna para saber como debemos procesarla. Para ello tenemos la siguiente forma:"
      ]
    },
    {
      "cell_type": "code",
      "metadata": {
        "colab": {
          "base_uri": "https://localhost:8080/"
        },
        "id": "t-yuAkH7kpd7",
        "outputId": "1176b689-c8aa-4b72-971b-a0476548f04d"
      },
      "source": [
        "df.dtypes"
      ],
      "execution_count": null,
      "outputs": [
        {
          "output_type": "execute_result",
          "data": {
            "text/plain": [
              "col1      int64\n",
              "col2      int64\n",
              "col3     object\n",
              "col4    float64\n",
              "dtype: object"
            ]
          },
          "metadata": {},
          "execution_count": 6
        }
      ]
    },
    {
      "cell_type": "markdown",
      "metadata": {
        "id": "zXS4rlwElElg"
      },
      "source": [
        "### **Obtener los valores de una columna concreta**\n",
        "\n",
        "A veces os puede interesar obtener los valores de una columna concreta. Para ello debéis usar \".iloc\""
      ]
    },
    {
      "cell_type": "code",
      "metadata": {
        "colab": {
          "base_uri": "https://localhost:8080/"
        },
        "id": "VViFB9O2kq04",
        "outputId": "245ade3d-1f72-41cf-a35e-d414c83b6f14"
      },
      "source": [
        "df.iloc[:, 1]"
      ],
      "execution_count": null,
      "outputs": [
        {
          "output_type": "execute_result",
          "data": {
            "text/plain": [
              "0    3\n",
              "1    4\n",
              "Name: col2, dtype: int64"
            ]
          },
          "metadata": {},
          "execution_count": 12
        }
      ]
    },
    {
      "cell_type": "markdown",
      "source": [
        "Si lo que queremos es for filas:"
      ],
      "metadata": {
        "id": "03I0EUuOg8eJ"
      }
    },
    {
      "cell_type": "code",
      "metadata": {
        "colab": {
          "base_uri": "https://localhost:8080/"
        },
        "id": "KhVWjkeOlrGV",
        "outputId": "b04a3b8e-eb14-4f1e-82e8-7e7c158db67b"
      },
      "source": [
        "df.loc[0]"
      ],
      "execution_count": null,
      "outputs": [
        {
          "output_type": "execute_result",
          "data": {
            "text/plain": [
              "col1       1\n",
              "col2       3\n",
              "col3    Hola\n",
              "col4    0.45\n",
              "Name: 0, dtype: object"
            ]
          },
          "metadata": {},
          "execution_count": 10
        }
      ]
    },
    {
      "cell_type": "markdown",
      "metadata": {
        "id": "lgunAic3lcky"
      },
      "source": [
        "### Drop duplicates\n"
      ]
    },
    {
      "cell_type": "markdown",
      "source": [
        "Hay veces que tendremos valores duplicados. Para ello los podemos eliminar de forma simple usando la función \"drop_duplicates()\""
      ],
      "metadata": {
        "id": "8X3b92KRhB5O"
      }
    },
    {
      "cell_type": "code",
      "metadata": {
        "id": "LZWY_DArlOnF"
      },
      "source": [
        "df.drop_duplicates()"
      ],
      "execution_count": null,
      "outputs": []
    },
    {
      "cell_type": "markdown",
      "metadata": {
        "id": "lk7V1EDJllVn"
      },
      "source": [
        "### Count all nulls in dataframe"
      ]
    },
    {
      "cell_type": "markdown",
      "source": [
        "Podemos contar cuantos valores nulos tenemos en el código de la siguiente forma:"
      ],
      "metadata": {
        "id": "ekGhFiudhJMi"
      }
    },
    {
      "cell_type": "code",
      "metadata": {
        "colab": {
          "base_uri": "https://localhost:8080/"
        },
        "id": "iR5vCTQglnmg",
        "outputId": "d27dc866-c2ad-4a75-ec60-505eed0bca6d"
      },
      "source": [
        "df.isnull().sum().sum()"
      ],
      "execution_count": null,
      "outputs": [
        {
          "output_type": "execute_result",
          "data": {
            "text/plain": [
              "0"
            ]
          },
          "metadata": {},
          "execution_count": 9
        }
      ]
    },
    {
      "cell_type": "markdown",
      "metadata": {
        "id": "a99w_n0hmLjE"
      },
      "source": [
        "### Drops NA"
      ]
    },
    {
      "cell_type": "markdown",
      "source": [
        "**Representación**:\n",
        "\n",
        "**null**: Es un término más genérico usado en programación para representar la ausencia de un valor. En Python y, por ende, en pandas, **null** se representa típicamente como None.\n",
        "**NA**: Es una representación específica de pandas introducida en versiones recientes para manejar datos faltantes de una manera más consistente y flexible. Es parte del tipo de datos \"**Nullable**\" de pandas, como **pd.NA**.\n",
        "Uso:\n",
        "\n",
        "* **None**: Se utiliza comúnmente en estructuras de datos de Python como listas y diccionarios y es compatible con cualquier tipo de datos en pandas, pero su comportamiento puede variar según el tipo de datos de la columna donde se encuentra.\n",
        "\n",
        "* **pd.NA**: Se utiliza específicamente en las series y dataframes de pandas. Proporciona un manejo uniforme de los datos faltantes, independientemente del tipo de datos de la columna (numérico, cadena, booleano, etc.)"
      ],
      "metadata": {
        "id": "AgT0bL2QhseU"
      }
    },
    {
      "cell_type": "code",
      "metadata": {
        "colab": {
          "base_uri": "https://localhost:8080/",
          "height": 111
        },
        "id": "57Vx5IpAl1_f",
        "outputId": "29759b09-1ed0-4c7e-dd80-4c7b2e9a9062"
      },
      "source": [
        "df.dropna()"
      ],
      "execution_count": null,
      "outputs": [
        {
          "output_type": "execute_result",
          "data": {
            "text/html": [
              "<div>\n",
              "<style scoped>\n",
              "    .dataframe tbody tr th:only-of-type {\n",
              "        vertical-align: middle;\n",
              "    }\n",
              "\n",
              "    .dataframe tbody tr th {\n",
              "        vertical-align: top;\n",
              "    }\n",
              "\n",
              "    .dataframe thead th {\n",
              "        text-align: right;\n",
              "    }\n",
              "</style>\n",
              "<table border=\"1\" class=\"dataframe\">\n",
              "  <thead>\n",
              "    <tr style=\"text-align: right;\">\n",
              "      <th></th>\n",
              "      <th>col1</th>\n",
              "      <th>col2</th>\n",
              "      <th>col3</th>\n",
              "      <th>col4</th>\n",
              "    </tr>\n",
              "  </thead>\n",
              "  <tbody>\n",
              "    <tr>\n",
              "      <th>0</th>\n",
              "      <td>1</td>\n",
              "      <td>3</td>\n",
              "      <td>Hola</td>\n",
              "      <td>0.45</td>\n",
              "    </tr>\n",
              "    <tr>\n",
              "      <th>1</th>\n",
              "      <td>2</td>\n",
              "      <td>4</td>\n",
              "      <td>Hola</td>\n",
              "      <td>0.45</td>\n",
              "    </tr>\n",
              "  </tbody>\n",
              "</table>\n",
              "</div>"
            ],
            "text/plain": [
              "   col1  col2  col3  col4\n",
              "0     1     3  Hola  0.45\n",
              "1     2     4  Hola  0.45"
            ]
          },
          "metadata": {},
          "execution_count": 13
        }
      ]
    },
    {
      "cell_type": "markdown",
      "metadata": {
        "id": "m-cNAeHAmZNq"
      },
      "source": [
        "### Replace all NA/null data with value"
      ]
    },
    {
      "cell_type": "code",
      "metadata": {
        "colab": {
          "base_uri": "https://localhost:8080/",
          "height": 111
        },
        "id": "7IXAN8KOmQ-C",
        "outputId": "3f905819-0d02-4fde-8b98-3f80af6de147"
      },
      "source": [
        "df.fillna(3)\n"
      ],
      "execution_count": null,
      "outputs": [
        {
          "output_type": "execute_result",
          "data": {
            "text/html": [
              "<div>\n",
              "<style scoped>\n",
              "    .dataframe tbody tr th:only-of-type {\n",
              "        vertical-align: middle;\n",
              "    }\n",
              "\n",
              "    .dataframe tbody tr th {\n",
              "        vertical-align: top;\n",
              "    }\n",
              "\n",
              "    .dataframe thead th {\n",
              "        text-align: right;\n",
              "    }\n",
              "</style>\n",
              "<table border=\"1\" class=\"dataframe\">\n",
              "  <thead>\n",
              "    <tr style=\"text-align: right;\">\n",
              "      <th></th>\n",
              "      <th>col1</th>\n",
              "      <th>col2</th>\n",
              "      <th>col3</th>\n",
              "      <th>col4</th>\n",
              "    </tr>\n",
              "  </thead>\n",
              "  <tbody>\n",
              "    <tr>\n",
              "      <th>0</th>\n",
              "      <td>1</td>\n",
              "      <td>3</td>\n",
              "      <td>Hola</td>\n",
              "      <td>0.45</td>\n",
              "    </tr>\n",
              "    <tr>\n",
              "      <th>1</th>\n",
              "      <td>2</td>\n",
              "      <td>4</td>\n",
              "      <td>Hola</td>\n",
              "      <td>0.45</td>\n",
              "    </tr>\n",
              "  </tbody>\n",
              "</table>\n",
              "</div>"
            ],
            "text/plain": [
              "   col1  col2  col3  col4\n",
              "0     1     3  Hola  0.45\n",
              "1     2     4  Hola  0.45"
            ]
          },
          "metadata": {},
          "execution_count": 15
        }
      ]
    }
  ]
}